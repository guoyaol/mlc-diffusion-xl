{
 "cells": [
  {
   "cell_type": "code",
   "execution_count": 1,
   "metadata": {},
   "outputs": [
    {
     "name": "stderr",
     "output_type": "stream",
     "text": [
      "/Users/guoyaoli/ENTER/envs/sdxl/lib/python3.10/site-packages/tqdm/auto.py:21: TqdmWarning: IProgress not found. Please update jupyter and ipywidgets. See https://ipywidgets.readthedocs.io/en/stable/user_install.html\n",
      "  from .autonotebook import tqdm as notebook_tqdm\n"
     ]
    }
   ],
   "source": [
    "from diffusers import DiffusionPipeline\n",
    "import torch\n",
    "\n",
    "\n",
    "import tvm\n",
    "from tvm import relax\n",
    "from tvm.relax.frontend.torch import dynamo_capture_subgraphs\n",
    "from tvm.relax.frontend.torch import from_fx\n",
    "from tvm.script import relax as R\n",
    "\n",
    "import torch\n",
    "from torch import fx\n",
    "\n",
    "from web_stable_diffusion import utils\n",
    "from web_stable_diffusion import trace"
   ]
  },
  {
   "cell_type": "code",
   "execution_count": 2,
   "metadata": {},
   "outputs": [
    {
     "name": "stdout",
     "output_type": "stream",
     "text": [
      "/Users/guoyaoli/tvm_work/tvm/python/tvm/__init__.py\n"
     ]
    }
   ],
   "source": [
    "print(tvm.__file__)"
   ]
  },
  {
   "cell_type": "markdown",
   "metadata": {},
   "source": [
    "# CLIP"
   ]
  },
  {
   "cell_type": "code",
   "execution_count": 3,
   "metadata": {},
   "outputs": [],
   "source": [
    "def clip_to_text_embeddings(pipe) -> tvm.IRModule:\n",
    "    # Define the wrapper torch.nn.Module for CLIP.\n",
    "    class CLIPModelWrapper(torch.nn.Module):\n",
    "        def __init__(self, clip):\n",
    "            super().__init__()\n",
    "            self.clip = clip\n",
    "\n",
    "        def forward(self, text_input_ids):\n",
    "            text_embeddings = self.clip(text_input_ids)[0]\n",
    "            return text_embeddings\n",
    "\n",
    "    clip = pipe.text_encoder\n",
    "    clip_to_text_embeddings = CLIPModelWrapper(clip)\n",
    "\n",
    "    # Create random input (77 is the maximum length).\n",
    "    text_input_ids = torch.rand((1, 77)).to(torch.int32)\n",
    "    # Capture CLIP's computational graph.\n",
    "    mod = dynamo_capture_subgraphs(\n",
    "        clip_to_text_embeddings.forward,\n",
    "        text_input_ids,\n",
    "        keep_params_as_input=True,\n",
    "    )\n",
    "    assert len(mod.functions) == 1\n",
    "\n",
    "    return tvm.IRModule({\"clip\": mod[\"subgraph_0\"]})"
   ]
  },
  {
   "cell_type": "markdown",
   "metadata": {},
   "source": [
    "# UNET"
   ]
  },
  {
   "cell_type": "code",
   "execution_count": 4,
   "metadata": {},
   "outputs": [],
   "source": [
    "def unet_latents_to_noise_pred(pipe, device_str: str) -> tvm.IRModule:\n",
    "    class UNetModelWrapper(torch.nn.Module):\n",
    "        def __init__(self, unet):\n",
    "            super().__init__()\n",
    "            self.unet = unet\n",
    "            # Default guidance scale factor in stable diffusion.\n",
    "            self.guidance_scale = 7.5\n",
    "\n",
    "        def forward(self, latents, timestep_tensor, text_embeddings, added_cond_kwargs_text_embeds, added_cond_kwargs_text_time_ids):\n",
    "            # Latent concatenation.\n",
    "            latent_model_input = torch.cat([latents] * 2, dim=0)\n",
    "            # UNet forward.\n",
    "            noise_pred = self.unet(latent_model_input, timestep_tensor, text_embeddings, added_cond_kwargs_text_embeds, added_cond_kwargs_text_time_ids)\n",
    "            # Classifier-free guidance.\n",
    "            noise_pred_uncond, noise_pred_text = noise_pred.chunk(2)\n",
    "            noise_pred = noise_pred_uncond + self.guidance_scale * (\n",
    "                noise_pred_text - noise_pred_uncond\n",
    "            )\n",
    "            return noise_pred\n",
    "\n",
    "    unet = utils.get_unet(pipe, device_str)\n",
    "    unet_to_noise_pred = UNetModelWrapper(unet)\n",
    "    graph = fx.symbolic_trace(unet_to_noise_pred)\n",
    "    mod = from_fx(\n",
    "        graph,\n",
    "        [((1, 4, 128, 128), \"float32\"), ((), \"int32\"), ((2, 77, 2048), \"float32\"), \n",
    "         ((2, 1280), \"float32\"), ((2, 6), \"float32\")],\n",
    "        keep_params_as_input=True,\n",
    "    )\n",
    "    return tvm.IRModule({\"unet\": mod[\"main\"]})"
   ]
  },
  {
   "cell_type": "markdown",
   "metadata": {},
   "source": [
    "# VAE"
   ]
  },
  {
   "cell_type": "code",
   "execution_count": 5,
   "metadata": {},
   "outputs": [],
   "source": [
    "def vae_to_image(pipe) -> tvm.IRModule:\n",
    "    class VAEModelWrapper(torch.nn.Module):\n",
    "        def __init__(self, vae):\n",
    "            super().__init__()\n",
    "            self.vae = vae\n",
    "\n",
    "        def forward(self, latents):\n",
    "            # Scale the latents so that it can be decoded by VAE.\n",
    "            latents = 1 / 0.18215 * latents\n",
    "            # VAE decode\n",
    "            z = self.vae.post_quant_conv(latents)\n",
    "            image = self.vae.decoder(z)\n",
    "            # Image normalization\n",
    "            image = (image / 2 + 0.5).clamp(min=0, max=1)\n",
    "            image = (image.permute(0, 2, 3, 1) * 255).round()\n",
    "            return image\n",
    "\n",
    "    vae = utils.get_vae(pipe)\n",
    "    vae_to_image = VAEModelWrapper(vae)\n",
    "\n",
    "    # z = torch.rand((1, 4, 64, 64), dtype=torch.float32)\n",
    "    # mod = dynamo_capture_subgraphs(\n",
    "    #     vae_to_image.forward,\n",
    "    #     z,\n",
    "    #     keep_params_as_input=True,\n",
    "    # )\n",
    "    # assert len(mod.functions) == 1\n",
    "\n",
    "    # return tvm.IRModule({\"vae\": mod[\"subgraph_0\"]})\n",
    "    graph = fx.symbolic_trace(vae_to_image)\n",
    "    mod = from_fx(\n",
    "        graph,\n",
    "        [((1, 4, 64, 64), \"float32\")],\n",
    "        keep_params_as_input=True,\n",
    "    )\n",
    "    return tvm.IRModule({\"vae\": mod[\"main\"]})"
   ]
  },
  {
   "cell_type": "markdown",
   "metadata": {},
   "source": [
    "# Sheduler"
   ]
  },
  {
   "cell_type": "code",
   "execution_count": 6,
   "metadata": {},
   "outputs": [],
   "source": [
    "def euler_discrete_scheduler_steps() -> tvm.IRModule:\n",
    "    bb = relax.BlockBuilder()\n",
    "\n",
    "    # step, the function.\n",
    "    sample = relax.Var(\"sample\", R.Tensor((1, 4, 64, 64), \"float32\"))\n",
    "    model_output = relax.Var(\"model_output\", R.Tensor((1, 4, 64, 64), \"float32\"))\n",
    "    sigma = relax.Var(f\"sigma\", R.Tensor((), \"float32\"))\n",
    "    sigma_next = relax.Var(f\"sigma\", R.Tensor((), \"float32\"))\n",
    "\n",
    "    with bb.function(\n",
    "        \"euler_discrete_scheduler_step\",\n",
    "        [sample, model_output, sigma, sigma_next],\n",
    "    ):\n",
    "        prev_sample = bb.emit(\n",
    "            sample + model_output * (sigma_next - sigma),\n",
    "            \"prev_sample\",\n",
    "        )\n",
    "        bb.emit_func_output(prev_sample)\n",
    "\n",
    "    return bb.get()"
   ]
  },
  {
   "cell_type": "code",
   "execution_count": 7,
   "metadata": {},
   "outputs": [
    {
     "name": "stderr",
     "output_type": "stream",
     "text": [
      "The config attributes {'add_watermarker': None} were passed to StableDiffusionXLPipeline, but are not expected and will be ignored. Please verify your model_index.json configuration file.\n",
      "Keyword arguments {'add_watermarker': None} are not expected by StableDiffusionXLPipeline and will be ignored.\n",
      "The config attributes {'force_upcast': True} were passed to AutoencoderKL, but are not expected and will be ignored. Please verify your config.json configuration file.\n"
     ]
    }
   ],
   "source": [
    "pipe = DiffusionPipeline.from_pretrained(\"stabilityai/stable-diffusion-xl-base-1.0\")\n",
    "\n",
    "torch_dev_key = \"cpu\"\n",
    "\n",
    "clip = clip_to_text_embeddings(pipe)\n",
    "unet = unet_latents_to_noise_pred(pipe, torch_dev_key)\n",
    "vae = vae_to_image(pipe)\n",
    "# concat_embeddings = concat_embeddings()\n",
    "# image_to_rgba = image_to_rgba()\n",
    "scheduler = euler_discrete_scheduler_steps()\n",
    "\n",
    "mod: tvm.IRModule = utils.merge_irmodules(\n",
    "    clip,\n",
    "    unet,\n",
    "    vae,\n",
    "    # concat_embeddings,\n",
    "    # image_to_rgba,\n",
    "    scheduler,\n",
    ")"
   ]
  },
  {
   "cell_type": "code",
   "execution_count": 8,
   "metadata": {},
   "outputs": [],
   "source": [
    "mod, params = relax.frontend.detach_params(mod)"
   ]
  },
  {
   "cell_type": "code",
   "execution_count": 9,
   "metadata": {},
   "outputs": [
    {
     "name": "stderr",
     "output_type": "stream",
     "text": [
      "[12:03:36] /Users/guoyaoli/tvm_work/tvm/include/tvm/topi/transform.h:1076: Warning: Fast mode segfaults when there are out-of-bounds indices. Make sure input indices are in bound\n",
      "[12:03:36] /Users/guoyaoli/tvm_work/tvm/include/tvm/topi/transform.h:1076: Warning: Fast mode segfaults when there are out-of-bounds indices. Make sure input indices are in bound\n"
     ]
    }
   ],
   "source": [
    "mod = relax.pipeline.get_pipeline()(mod)"
   ]
  },
  {
   "cell_type": "code",
   "execution_count": 10,
   "metadata": {},
   "outputs": [],
   "source": [
    "model_names = [\"clip\", \"unet\", \"vae\"]\n",
    "scheduler_func_names = [\"euler_discrete_scheduler_step\"]\n",
    "entry_funcs = (\n",
    "    model_names + scheduler_func_names\n",
    ")\n",
    "\n",
    "# Clean up unused parts of the IRModule.\n",
    "mod = relax.transform.DeadCodeElimination(entry_funcs)(mod)"
   ]
  },
  {
   "cell_type": "code",
   "execution_count": 11,
   "metadata": {},
   "outputs": [],
   "source": [
    "mod = relax.transform.LiftTransformParams()(mod)"
   ]
  },
  {
   "cell_type": "code",
   "execution_count": 12,
   "metadata": {},
   "outputs": [],
   "source": [
    "mod_transform, mod_deploy = utils.split_transform_deploy_mod(\n",
    "    mod, model_names, entry_funcs\n",
    ")"
   ]
  },
  {
   "cell_type": "code",
   "execution_count": 13,
   "metadata": {},
   "outputs": [
    {
     "name": "stdout",
     "output_type": "stream",
     "text": [
      "In IRModule for build stage:\n",
      "vae_transform_params\n",
      "unet_transform_params\n",
      "clip_transform_params\n",
      "\n",
      "In IRModule for deployment stage:\n",
      "vae\n",
      "clip\n",
      "euler_discrete_scheduler_step\n",
      "unet\n",
      "\n"
     ]
    }
   ],
   "source": [
    "def print_relax_funcnames(mod: tvm.IRModule):\n",
    "    for global_var, func in mod.functions.items():\n",
    "        if isinstance(func, relax.Function):\n",
    "            print(global_var.name_hint)\n",
    "    print()\n",
    "    \n",
    "print(\"In IRModule for build stage:\")\n",
    "print_relax_funcnames(mod_transform)\n",
    "\n",
    "print(\"In IRModule for deployment stage:\")\n",
    "print_relax_funcnames(mod_deploy)"
   ]
  },
  {
   "cell_type": "code",
   "execution_count": 14,
   "metadata": {},
   "outputs": [
    {
     "name": "stdout",
     "output_type": "stream",
     "text": [
      "Start storing to cache dist/params\n",
      "[2016/2016] saving clip_195 \n",
      "All finished, 188 total shards committed, record saved to dist/params/ndarray-cache.json\n",
      "Also saved a bf16 record to dist/params/ndarray-cache-b16.json\n"
     ]
    }
   ],
   "source": [
    "# Compute and save the scheduler constants.\n",
    "# trace.compute_save_scheduler_consts(artifact_path=\"dist\")\n",
    "# Compute and save the models's weight parameters.\n",
    "new_params = utils.transform_params(mod_transform, params)\n",
    "utils.save_params(new_params, artifact_path=\"dist\")"
   ]
  },
  {
   "cell_type": "code",
   "execution_count": 15,
   "metadata": {},
   "outputs": [],
   "source": [
    "from tvm import meta_schedule as ms\n",
    "\n",
    "target = tvm.target.Target(\"apple/m1-gpu\")\n",
    "device = tvm.metal()\n",
    "\n",
    "with target, tvm.transform.PassContext(opt_level=3):\n",
    "    mod_deploy = tvm.tir.transform.DefaultGPUSchedule()(mod_deploy)"
   ]
  },
  {
   "cell_type": "code",
   "execution_count": 16,
   "metadata": {},
   "outputs": [
    {
     "name": "stderr",
     "output_type": "stream",
     "text": [
      "[12:04:47] /Users/guoyaoli/tvm_work/tvm/src/runtime/metal/metal_device_api.mm:165: Intializing Metal device 0, name=Apple M2 Max\n"
     ]
    }
   ],
   "source": [
    "ex = relax.build(mod=mod_deploy, target=target)"
   ]
  },
  {
   "cell_type": "code",
   "execution_count": 17,
   "metadata": {},
   "outputs": [],
   "source": [
    "ex.export_library(\"dist/stable_diffusion.so\")"
   ]
  },
  {
   "cell_type": "markdown",
   "metadata": {},
   "source": [
    "# Load Back"
   ]
  },
  {
   "cell_type": "code",
   "execution_count": 18,
   "metadata": {},
   "outputs": [],
   "source": [
    "# Load the model weight parameters back.\n",
    "const_params_dict = utils.load_params(artifact_path=\"dist\", device=device)\n",
    "# Load the model executable back from the shared library.\n",
    "ex = tvm.runtime.load_module(\"dist/stable_diffusion.so\")"
   ]
  },
  {
   "cell_type": "code",
   "execution_count": 19,
   "metadata": {},
   "outputs": [],
   "source": [
    "vm = relax.VirtualMachine(rt_mod=ex, device=device)"
   ]
  },
  {
   "cell_type": "code",
   "execution_count": 32,
   "metadata": {},
   "outputs": [],
   "source": [
    "def wrapper(f, params):\n",
    "    def wrapped_f(*args):\n",
    "        return f(*args, params)\n",
    "\n",
    "    return wrapped_f"
   ]
  },
  {
   "cell_type": "code",
   "execution_count": null,
   "metadata": {},
   "outputs": [],
   "source": [
    "run_clip = wrapper(vm[\"clip\"], const_params_dict[\"clip\"])\n",
    "\n",
    "input = torch.rand((1, 77)).to(torch.int32)\n",
    "input_nd = tvm.nd.array(input, device=device)\n",
    "\n",
    "nd_res1 = run_clip(input_nd)"
   ]
  },
  {
   "cell_type": "code",
   "execution_count": 35,
   "metadata": {},
   "outputs": [
    {
     "ename": "TVMError",
     "evalue": "Traceback (most recent call last):\n  [bt] (8) 9   libtvm.dylib                        0x00000002a558db78 tvm::runtime::relax_vm::VirtualMachineImpl::InvokeClosurePacked(tvm::runtime::ObjectRef const&, tvm::runtime::TVMArgs, tvm::runtime::TVMRetValue*) + 96\n  [bt] (7) 8   stable_diffusion.so                 0x0000007007686ff8 fused_group_norm12_silu11_compute_ + 308\n  [bt] (6) 7   libtvm.dylib                        0x00000002a55cd800 tvm::runtime::WorkspacePool::AllocWorkspace(DLDevice, unsigned long) + 236\n  [bt] (5) 6   libtvm.dylib                        0x00000002a55cd8e4 tvm::runtime::WorkspacePool::Pool::Alloc(DLDevice, tvm::runtime::DeviceAPI*, unsigned long) + 160\n  [bt] (4) 5   libtvm.dylib                        0x00000002a5620fe4 tvm::runtime::metal::MetalWorkspace::FreeDataSpace(DLDevice, void*) + 52\n  [bt] (3) 4   libtvm.dylib                        0x00000002a5621ba0 tvm::runtime::metal::MetalWorkspace::StreamSync(DLDevice, void*) + 264\n  [bt] (2) 3   libtvm.dylib                        0x00000002a35dcca0 __clang_call_terminate + 0\n  [bt] (1) 2   libtvm.dylib                        0x00000002a35dfab8 tvm::runtime::detail::LogFatal::Entry::Finalize() + 0\n  [bt] (0) 1   libtvm.dylib                        0x00000002a35dfafc tvm::runtime::detail::LogFatal::Entry::Finalize() + 68\n  File \"/Users/guoyaoli/tvm_work/tvm/src/runtime/metal/metal_device_api.mm\", line 308\nTVMError: Error! Some problems on GPU happaned!",
     "output_type": "error",
     "traceback": [
      "\u001b[0;31m---------------------------------------------------------------------------\u001b[0m",
      "\u001b[0;31mTVMError\u001b[0m                                  Traceback (most recent call last)",
      "Cell \u001b[0;32mIn[35], line 16\u001b[0m\n\u001b[1;32m     13\u001b[0m input4_nd \u001b[39m=\u001b[39m tvm\u001b[39m.\u001b[39mnd\u001b[39m.\u001b[39marray(input4, device\u001b[39m=\u001b[39mdevice)\n\u001b[1;32m     14\u001b[0m input5_nd \u001b[39m=\u001b[39m tvm\u001b[39m.\u001b[39mnd\u001b[39m.\u001b[39marray(input5, device\u001b[39m=\u001b[39mdevice)\n\u001b[0;32m---> 16\u001b[0m nd_res2 \u001b[39m=\u001b[39m run_unet(input1_nd, input2_nd, input3_nd, input4_nd, input5_nd)\u001b[39m.\u001b[39mnumpy()\n",
      "Cell \u001b[0;32mIn[32], line 3\u001b[0m, in \u001b[0;36mwrapper.<locals>.wrapped_f\u001b[0;34m(*args)\u001b[0m\n\u001b[1;32m      2\u001b[0m \u001b[39mdef\u001b[39;00m \u001b[39mwrapped_f\u001b[39m(\u001b[39m*\u001b[39margs):\n\u001b[0;32m----> 3\u001b[0m     \u001b[39mreturn\u001b[39;00m f(\u001b[39m*\u001b[39;49margs, params)\n",
      "File \u001b[0;32m~/tvm_work/tvm/python/tvm/_ffi/_ctypes/packed_func.py:238\u001b[0m, in \u001b[0;36mPackedFuncBase.__call__\u001b[0;34m(self, *args)\u001b[0m\n\u001b[1;32m    226\u001b[0m ret_tcode \u001b[39m=\u001b[39m ctypes\u001b[39m.\u001b[39mc_int()\n\u001b[1;32m    227\u001b[0m \u001b[39mif\u001b[39;00m (\n\u001b[1;32m    228\u001b[0m     _LIB\u001b[39m.\u001b[39mTVMFuncCall(\n\u001b[1;32m    229\u001b[0m         \u001b[39mself\u001b[39m\u001b[39m.\u001b[39mhandle,\n\u001b[0;32m   (...)\u001b[0m\n\u001b[1;32m    236\u001b[0m     \u001b[39m!=\u001b[39m \u001b[39m0\u001b[39m\n\u001b[1;32m    237\u001b[0m ):\n\u001b[0;32m--> 238\u001b[0m     \u001b[39mraise\u001b[39;00m get_last_ffi_error()\n\u001b[1;32m    239\u001b[0m _ \u001b[39m=\u001b[39m temp_args\n\u001b[1;32m    240\u001b[0m _ \u001b[39m=\u001b[39m args\n",
      "\u001b[0;31mTVMError\u001b[0m: Traceback (most recent call last):\n  [bt] (8) 9   libtvm.dylib                        0x00000002a558db78 tvm::runtime::relax_vm::VirtualMachineImpl::InvokeClosurePacked(tvm::runtime::ObjectRef const&, tvm::runtime::TVMArgs, tvm::runtime::TVMRetValue*) + 96\n  [bt] (7) 8   stable_diffusion.so                 0x0000007007686ff8 fused_group_norm12_silu11_compute_ + 308\n  [bt] (6) 7   libtvm.dylib                        0x00000002a55cd800 tvm::runtime::WorkspacePool::AllocWorkspace(DLDevice, unsigned long) + 236\n  [bt] (5) 6   libtvm.dylib                        0x00000002a55cd8e4 tvm::runtime::WorkspacePool::Pool::Alloc(DLDevice, tvm::runtime::DeviceAPI*, unsigned long) + 160\n  [bt] (4) 5   libtvm.dylib                        0x00000002a5620fe4 tvm::runtime::metal::MetalWorkspace::FreeDataSpace(DLDevice, void*) + 52\n  [bt] (3) 4   libtvm.dylib                        0x00000002a5621ba0 tvm::runtime::metal::MetalWorkspace::StreamSync(DLDevice, void*) + 264\n  [bt] (2) 3   libtvm.dylib                        0x00000002a35dcca0 __clang_call_terminate + 0\n  [bt] (1) 2   libtvm.dylib                        0x00000002a35dfab8 tvm::runtime::detail::LogFatal::Entry::Finalize() + 0\n  [bt] (0) 1   libtvm.dylib                        0x00000002a35dfafc tvm::runtime::detail::LogFatal::Entry::Finalize() + 68\n  File \"/Users/guoyaoli/tvm_work/tvm/src/runtime/metal/metal_device_api.mm\", line 308\nTVMError: Error! Some problems on GPU happaned!"
     ]
    }
   ],
   "source": [
    "run_unet = wrapper(vm[\"unet\"], const_params_dict[\"unet\"])\n",
    "\n",
    "input1 = torch.rand((1, 4, 128, 128)).to(torch.float32)\n",
    "input2 = torch.tensor(3).to(torch.int32)\n",
    "input3 = torch.rand((2, 77, 2048)).to(torch.float32)\n",
    "input4 = torch.rand((2, 1280)).to(torch.float32)\n",
    "input5 = torch.rand((2, 6)).to(torch.float32)\n",
    "\n",
    "\n",
    "input1_nd = tvm.nd.array(input1, device=device)\n",
    "input2_nd = tvm.nd.array(input2, device=device)\n",
    "input3_nd = tvm.nd.array(input3, device=device)\n",
    "input4_nd = tvm.nd.array(input4, device=device)\n",
    "input5_nd = tvm.nd.array(input5, device=device)\n",
    "\n",
    "nd_res2 = run_unet(input1_nd, input2_nd, input3_nd, input4_nd, input5_nd).numpy()"
   ]
  },
  {
   "cell_type": "code",
   "execution_count": null,
   "metadata": {},
   "outputs": [],
   "source": []
  }
 ],
 "metadata": {
  "kernelspec": {
   "display_name": "sdxl",
   "language": "python",
   "name": "python3"
  },
  "language_info": {
   "codemirror_mode": {
    "name": "ipython",
    "version": 3
   },
   "file_extension": ".py",
   "mimetype": "text/x-python",
   "name": "python",
   "nbconvert_exporter": "python",
   "pygments_lexer": "ipython3",
   "version": "3.10.12"
  },
  "orig_nbformat": 4
 },
 "nbformat": 4,
 "nbformat_minor": 2
}
